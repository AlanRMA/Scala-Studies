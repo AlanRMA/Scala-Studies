{
 "cells": [
  {
   "cell_type": "code",
   "execution_count": 6,
   "id": "09ee165b-df6f-4235-a814-e0dbd4662181",
   "metadata": {},
   "outputs": [],
   "source": [
    "class Node:\n",
    "    def __init__(self,value):\n",
    "        self.value = value\n",
    "        self.next = None"
   ]
  },
  {
   "cell_type": "code",
   "execution_count": 207,
   "id": "c150dc4c-f3d7-4d84-86f6-548c621eaf93",
   "metadata": {},
   "outputs": [],
   "source": [
    "class LinkedList:\n",
    "    def __init__(self):\n",
    "        self.head = None\n",
    "        self.tail = None\n",
    "    def insert(self, value):\n",
    "        new_node = Node(value)  \n",
    "        if self.head is None: \n",
    "            self.head = new_node\n",
    "            self.tail = new_node\n",
    "        else:\n",
    "            new_node.next = self.head \n",
    "            self.head = new_node \n",
    "    def pop(self):\n",
    "        if self.head == self.tail:\n",
    "            value = self.head.value\n",
    "            self.head = self.tail = None\n",
    "            return value\n",
    "        if self.head == None:\n",
    "            return None\n",
    "        current = self.head\n",
    "        prev = None\n",
    "        while current.next:\n",
    "            prev = current\n",
    "            current = current.next\n",
    "        value = current.value\n",
    "        prev.next = None\n",
    "        self.tail = prev\n",
    "        return value\n",
    "    def search(self,value):\n",
    "        if self.head is None:\n",
    "            return \"List is Empty\"\n",
    "        counter = 0\n",
    "        current = self.head\n",
    "        while current: \n",
    "            if current.value == value:\n",
    "                return counter\n",
    "            counter += 1\n",
    "            current = current.next\n",
    "\n",
    "        return \"Value Not Found\"\n",
    "    def show(self):\n",
    "        result = []\n",
    "        current = self.head\n",
    "        while current:\n",
    "            result.append(current.value)\n",
    "            current = current.next\n",
    "        return result"
   ]
  },
  {
   "cell_type": "code",
   "execution_count": 208,
   "id": "2ceee603-a253-4802-b362-2bda05f8ef8d",
   "metadata": {},
   "outputs": [],
   "source": [
    "Link = LinkedList()\n",
    "Link.insert(20)\n",
    "Link.insert(21)\n",
    "Link.insert(22)"
   ]
  },
  {
   "cell_type": "code",
   "execution_count": 209,
   "id": "0f5c5461-ba03-4e10-ab43-0abb79cd1425",
   "metadata": {},
   "outputs": [
    {
     "data": {
      "text/plain": [
       "22"
      ]
     },
     "execution_count": 209,
     "metadata": {},
     "output_type": "execute_result"
    }
   ],
   "source": [
    "Link.head.value"
   ]
  },
  {
   "cell_type": "code",
   "execution_count": 210,
   "id": "f2c66b45-35f4-47e3-90e0-ab194494ff09",
   "metadata": {},
   "outputs": [
    {
     "data": {
      "text/plain": [
       "21"
      ]
     },
     "execution_count": 210,
     "metadata": {},
     "output_type": "execute_result"
    }
   ],
   "source": [
    "Link.head.next.value"
   ]
  },
  {
   "cell_type": "code",
   "execution_count": 211,
   "id": "d289b4d9-dd63-486d-a1a8-30a279198417",
   "metadata": {},
   "outputs": [
    {
     "data": {
      "text/plain": [
       "20"
      ]
     },
     "execution_count": 211,
     "metadata": {},
     "output_type": "execute_result"
    }
   ],
   "source": [
    "Link.head.next.next.value"
   ]
  },
  {
   "cell_type": "code",
   "execution_count": 212,
   "id": "1f6631c8-fd24-4f4d-8664-cf312e9148be",
   "metadata": {},
   "outputs": [
    {
     "data": {
      "text/plain": [
       "0"
      ]
     },
     "execution_count": 212,
     "metadata": {},
     "output_type": "execute_result"
    }
   ],
   "source": [
    "Link.search(22)"
   ]
  },
  {
   "cell_type": "code",
   "execution_count": 213,
   "id": "8b57074b-cb14-4620-9c75-d9936cdb6ea3",
   "metadata": {},
   "outputs": [
    {
     "data": {
      "text/plain": [
       "[22, 21, 20]"
      ]
     },
     "execution_count": 213,
     "metadata": {},
     "output_type": "execute_result"
    }
   ],
   "source": [
    "Link.show()"
   ]
  }
 ],
 "metadata": {
  "kernelspec": {
   "display_name": "Python 3 (ipykernel)",
   "language": "python",
   "name": "python3"
  },
  "language_info": {
   "codemirror_mode": {
    "name": "ipython",
    "version": 3
   },
   "file_extension": ".py",
   "mimetype": "text/x-python",
   "name": "python",
   "nbconvert_exporter": "python",
   "pygments_lexer": "ipython3",
   "version": "3.12.3"
  }
 },
 "nbformat": 4,
 "nbformat_minor": 5
}
