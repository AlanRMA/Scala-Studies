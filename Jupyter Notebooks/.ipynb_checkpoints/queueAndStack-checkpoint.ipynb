{
 "cells": [
  {
   "cell_type": "code",
   "execution_count": 5,
   "id": "d224551f-b57d-490a-9582-7090a441679a",
   "metadata": {},
   "outputs": [],
   "source": [
    "class Node:\n",
    "    def __init__(self,value):\n",
    "        self.value = value\n",
    "        self.next = None"
   ]
  },
  {
   "cell_type": "code",
   "execution_count": 6,
   "id": "a06f7204-23ba-46ee-a7a6-8ef66c65ff8e",
   "metadata": {},
   "outputs": [],
   "source": [
    "class Stack:\n",
    "    def __init__(self,value):\n",
    "        self.first = Node(value)\n",
    "    def push(self,value):\n",
    "        node = Node(value)\n",
    "        node.next = self.first\n",
    "        self.first = node\n",
    "    def pop(self):\n",
    "        result = self.first.value\n",
    "        self.first = self.first.next\n",
    "        return result"
   ]
  },
  {
   "cell_type": "code",
   "execution_count": 7,
   "id": "0c4aab45-d8f4-4360-842e-823d4faf5787",
   "metadata": {},
   "outputs": [],
   "source": [
    "class Queue:\n",
    "    def __init__(self,value):\n",
    "        self.first = Node(value)\n",
    "    def enqueue(self,value):\n",
    "        node = Node(value)\n",
    "        self.first.next = node\n",
    "    def dequeue(self):\n",
    "        result = self.first.value\n",
    "        self.first = self.first.next\n",
    "        return result\n",
    "        "
   ]
  },
  {
   "cell_type": "code",
   "execution_count": null,
   "id": "d42ee0eb-9a19-4b55-98fa-dd9b7d0c3759",
   "metadata": {},
   "outputs": [],
   "source": []
  }
 ],
 "metadata": {
  "kernelspec": {
   "display_name": "Python 3 (ipykernel)",
   "language": "python",
   "name": "python3"
  },
  "language_info": {
   "codemirror_mode": {
    "name": "ipython",
    "version": 3
   },
   "file_extension": ".py",
   "mimetype": "text/x-python",
   "name": "python",
   "nbconvert_exporter": "python",
   "pygments_lexer": "ipython3",
   "version": "3.12.3"
  }
 },
 "nbformat": 4,
 "nbformat_minor": 5
}
