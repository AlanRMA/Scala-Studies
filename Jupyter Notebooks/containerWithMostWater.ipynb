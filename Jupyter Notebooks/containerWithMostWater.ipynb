{
 "cells": [
  {
   "cell_type": "markdown",
   "id": "7ea3dee3-0e5b-4007-aecc-b3539cfcd4b7",
   "metadata": {},
   "source": [
    "# Container With Most Water\n",
    "**Medium**\n",
    "\n",
    "## Topics\n",
    "Companies\n",
    "\n",
    "## Hint\n",
    "You are given an integer array `height` of length `n`. There are `n` vertical lines drawn such that the two endpoints of the `i-th` line are `(i, 0)` and `(i, height[i])`.\n",
    "\n",
    "Find two lines that together with the x-axis form a container, such that the container contains the most water.\n",
    "\n",
    "Return the maximum amount of water a container can store.\n",
    "\n",
    "Notice that you may not slant the container.\n",
    "\n",
    "## Example 1:\n",
    "\n",
    "**Input:** `height = [1,8,6,2,5,4,8,3,7]`  \n",
    "**Output:** `49`  \n",
    "**Explanation:** The above vertical lines are represented by array `[1,8,6,2,5,4,8,3,7]`. In this case, the max area of water (blue section) the container can contain is `49`.\n",
    "\n",
    "## Example 2:\n",
    "\n",
    "**Input:** `height = [1,1]`  \n",
    "**Output:** `1`\n"
   ]
  },
  {
   "cell_type": "code",
   "execution_count": 6,
   "id": "7a9e1a6e-20f0-444e-a6d6-7aeb2139c078",
   "metadata": {},
   "outputs": [],
   "source": [
    "def maxArea(self, height: List[int]) -> int:\n",
    "        container_number = len(height) - 1\n",
    "        area_of_containers = []\n",
    "        for container in range(container_number): # iteração de cada container\n",
    "            R = None\n",
    "            L = container\n",
    "            dist = container_number - container - 1\n",
    "            for e in height:\n",
    "                R = -e-1\n",
    "                if height[L] < height[R]:\n",
    "                    area_of_containers.append(height[L] * dist)\n",
    "                else\n",
    "                    dist = dist - 1\n",
    "        return sorted(area_of_containers)[-1]\n",
    "                    "
   ]
  },
  {
   "cell_type": "code",
   "execution_count": null,
   "id": "5b39c355-d730-460f-a3ef-c13adb150a29",
   "metadata": {},
   "outputs": [],
   "source": [
    "right = None\n",
    "left = height[i]\n",
    "distancia = container_number -i -1 # Máxima\n",
    "para cada container em numero de containers:\n",
    "    para cada elemento em um range(numero de containers)\n",
    "    direita = atribuir novo na direita\n",
    "    se altura do left < altura do right:\n",
    "        adicionar altura do left * distancia\n",
    "    se não:\n",
    "        diminuir distância\n"
   ]
  },
  {
   "cell_type": "code",
   "execution_count": 10,
   "id": "12223274-bac8-449f-8d0a-29760a66c956",
   "metadata": {},
   "outputs": [],
   "source": [
    "height = [1,8,6,2,5,4,8,3,7]"
   ]
  },
  {
   "cell_type": "code",
   "execution_count": 11,
   "id": "b993d55e-96be-4c06-9f5b-86615caaf049",
   "metadata": {},
   "outputs": [
    {
     "data": {
      "text/plain": [
       "[1, 2, 3, 4, 5, 6, 7, 8, 8]"
      ]
     },
     "execution_count": 11,
     "metadata": {},
     "output_type": "execute_result"
    }
   ],
   "source": [
    "maxArea(height)"
   ]
  },
  {
   "cell_type": "code",
   "execution_count": null,
   "id": "0ac791c2-6153-4960-ac57-9b30d6741410",
   "metadata": {},
   "outputs": [],
   "source": []
  }
 ],
 "metadata": {
  "kernelspec": {
   "display_name": "Python 3 (ipykernel)",
   "language": "python",
   "name": "python3"
  },
  "language_info": {
   "codemirror_mode": {
    "name": "ipython",
    "version": 3
   },
   "file_extension": ".py",
   "mimetype": "text/x-python",
   "name": "python",
   "nbconvert_exporter": "python",
   "pygments_lexer": "ipython3",
   "version": "3.12.3"
  }
 },
 "nbformat": 4,
 "nbformat_minor": 5
}
