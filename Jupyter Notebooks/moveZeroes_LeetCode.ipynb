{
 "cells": [
  {
   "cell_type": "markdown",
   "id": "b236ffc6-25c2-4e35-b53a-1712c0cc2239",
   "metadata": {},
   "source": [
    "# Move Zeroes\n",
    "\n",
    "Given an integer array `nums`, move all 0's to the end of it while maintaining the relative order of the non-zero elements.\n",
    "\n",
    "Note that you must do this in-place without making a copy of the array.\n",
    "\n",
    "## Examples\n",
    "\n",
    "### Example 1:\n",
    "\n",
    "- **Input:** `nums = [0,1,0,3,12]`\n",
    "- **Output:** `[1,3,12,0,0]`\n",
    "\n",
    "### Example 2:\n",
    "\n",
    "- **Input:** `nums = [0]`\n",
    "- **Output:** `[0]`"
   ]
  },
  {
   "cell_type": "code",
   "execution_count": 36,
   "id": "4ea31bde-d978-40f8-8319-c79d486c2002",
   "metadata": {},
   "outputs": [],
   "source": [
    "class Solution:\n",
    "    def moveZeroes(self, nums: List[int]) -> None:\n",
    "        counter = 0\n",
    "        for n in nums:\n",
    "            print(n)\n",
    "            if n == 0:\n",
    "                counter +=1\n",
    "        for i in range(counter):\n",
    "                nums.remove(0)\n",
    "        for i in range(counter):\n",
    "                nums.append(0)\n",
    "        return nums\n",
    "        "
   ]
  }
 ],
 "metadata": {
  "kernelspec": {
   "display_name": "Python 3 (ipykernel)",
   "language": "python",
   "name": "python3"
  },
  "language_info": {
   "codemirror_mode": {
    "name": "ipython",
    "version": 3
   },
   "file_extension": ".py",
   "mimetype": "text/x-python",
   "name": "python",
   "nbconvert_exporter": "python",
   "pygments_lexer": "ipython3",
   "version": "3.12.3"
  }
 },
 "nbformat": 4,
 "nbformat_minor": 5
}
